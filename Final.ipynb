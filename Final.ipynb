{
 "cells": [
  {
   "cell_type": "code",
   "execution_count": 1,
   "id": "84d4c7e4-d117-474c-91ca-99d66aea3963",
   "metadata": {},
   "outputs": [],
   "source": [
    "import pandas as pd\n",
    "import numpy as np\n",
    "import seaborn as sns\n",
    "import joblib\n",
    "from sklearn.metrics import r2_score, mean_absolute_error, mean_squared_error, accuracy_score\n",
    "from sklearn.ensemble import RandomForestRegressor\n",
    "from sklearn.preprocessing import StandardScaler\n",
    "from sklearn.model_selection import train_test_split\n",
    "from sklearn.preprocessing import LabelEncoder"
   ]
  },
  {
   "cell_type": "markdown",
   "id": "85fc36dd-a35d-49e0-8961-e684dd068ce3",
   "metadata": {},
   "source": [
    "Import Dataset"
   ]
  },
  {
   "cell_type": "code",
   "execution_count": 2,
   "id": "560ac5eb-9d5c-4dc9-b643-d608af9c505c",
   "metadata": {},
   "outputs": [],
   "source": [
    "df_train= pd.read_csv(r'D:\\D_Documents\\Minor_Project\\data\\train.csv')\n",
    "df_test= pd.read_csv(r'D:\\D_Documents\\Minor_Project\\data\\test.csv')"
   ]
  },
  {
   "cell_type": "markdown",
   "id": "cc0fda93-e318-4cd2-a553-2d5ac123529c",
   "metadata": {},
   "source": [
    "Fill Blank Spaces of column Item_Weight"
   ]
  },
  {
   "cell_type": "code",
   "execution_count": 3,
   "id": "628949f4-4c58-4813-a793-7d01c9f5a8cb",
   "metadata": {},
   "outputs": [],
   "source": [
    "df_train['Item_Weight'].fillna(df_train['Item_Weight'].mean(), inplace= True)\n",
    "df_test['Item_Weight'].fillna(df_test['Item_Weight'].mean(), inplace= True)"
   ]
  },
  {
   "cell_type": "markdown",
   "id": "c2253c1d-f100-4746-bcfd-bc06629c3d7e",
   "metadata": {},
   "source": [
    "Fill blank spaces of column Outlet_size"
   ]
  },
  {
   "cell_type": "code",
   "execution_count": 4,
   "id": "e061a4cd-8618-49b0-8398-892633ce31cd",
   "metadata": {},
   "outputs": [],
   "source": [
    "df_train['Outlet_Size'].fillna(df_train['Outlet_Size'].mode()[0], inplace = True)\n",
    "df_train['Outlet_Size'].fillna(df_train['Outlet_Size'].mode()[0], inplace = True)"
   ]
  },
  {
   "cell_type": "markdown",
   "id": "9a545107-137f-4a59-9db1-07851e34a6f9",
   "metadata": {},
   "source": [
    "Replacing Faulty Values"
   ]
  },
  {
   "cell_type": "code",
   "execution_count": 5,
   "id": "3a4a1c7d-75e5-40ea-a0f3-760de9db4e7c",
   "metadata": {},
   "outputs": [],
   "source": [
    "for x in df_train.index:\n",
    "    df_train.loc[x, 'Item_Fat_Content'] = df_train.loc[x, 'Item_Fat_Content'].replace(\"low fat\" , \"Low Fat\")\n",
    "for x in df_train.index:\n",
    "    df_train.loc[x, 'Item_Fat_Content'] = df_train.loc[x, 'Item_Fat_Content'].replace(\"LF\" , \"Low Fat\")\n",
    "for x in df_train.index:\n",
    "    df_train.loc[x, 'Item_Fat_Content'] = df_train.loc[x, 'Item_Fat_Content'].replace(\"reg\" , \"Regular\")"
   ]
  },
  {
   "cell_type": "code",
   "execution_count": null,
   "id": "881e946f-11ae-44ae-865e-c80dedb360fc",
   "metadata": {},
   "outputs": [],
   "source": []
  },
  {
   "cell_type": "markdown",
   "id": "fd7127d8-2793-4c8f-91c1-7f78d479e4e7",
   "metadata": {},
   "source": [
    "Drop unimportant columns"
   ]
  },
  {
   "cell_type": "code",
   "execution_count": 6,
   "id": "4d94b748-a76d-4f1f-bc7d-9d2020b29b0d",
   "metadata": {},
   "outputs": [],
   "source": [
    "df_train.drop(['Item_Identifier', 'Outlet_Identifier'], axis = 1, inplace = True)\n",
    "df_test.drop(['Item_Identifier', 'Outlet_Identifier'], axis = 1, inplace = True)"
   ]
  },
  {
   "cell_type": "code",
   "execution_count": null,
   "id": "b76fd693-ccb6-46fb-ac3f-6cf1034ab8d6",
   "metadata": {},
   "outputs": [],
   "source": []
  },
  {
   "cell_type": "markdown",
   "id": "48731f61-7f20-4113-aea9-8c109615cb43",
   "metadata": {},
   "source": [
    "Encoding Technique"
   ]
  },
  {
   "cell_type": "code",
   "execution_count": 7,
   "id": "b835650d-c72b-4775-bacc-0d9ac602529e",
   "metadata": {},
   "outputs": [],
   "source": [
    "le = LabelEncoder()"
   ]
  },
  {
   "cell_type": "code",
   "execution_count": 8,
   "id": "6fe52af2-2dd3-4500-9465-ac0acef07cdb",
   "metadata": {},
   "outputs": [],
   "source": [
    "df_train['Item_Fat_Content']= le.fit_transform(df_train['Item_Fat_Content'])\n",
    "df_train['Item_Type']= le.fit_transform(df_train['Item_Type'])\n",
    "df_train['Outlet_Size']= le.fit_transform(df_train['Outlet_Size'])\n",
    "df_train['Outlet_Location_Type']= le.fit_transform(df_train['Outlet_Location_Type'])\n",
    "df_train['Outlet_Type']= le.fit_transform(df_train['Outlet_Type'])"
   ]
  },
  {
   "cell_type": "markdown",
   "id": "06b6f461-c2df-4c4f-8b13-6f12104a12dd",
   "metadata": {},
   "source": [
    "Dimensionality Reduction"
   ]
  },
  {
   "cell_type": "code",
   "execution_count": 9,
   "id": "1bc79f69-eab4-4273-a169-2bd9996b33b2",
   "metadata": {},
   "outputs": [],
   "source": [
    "x = df_train.drop('Item_Outlet_Sales', axis=1)\n",
    "y = df_train['Item_Outlet_Sales']"
   ]
  },
  {
   "cell_type": "markdown",
   "id": "1347b258-ae0b-475f-b8af-e19d96880d49",
   "metadata": {},
   "source": [
    "Partitioning"
   ]
  },
  {
   "cell_type": "code",
   "execution_count": 10,
   "id": "0f705725-c99a-4e55-a163-20165171a45d",
   "metadata": {},
   "outputs": [],
   "source": [
    "from sklearn.model_selection import train_test_split\n",
    "x_train, x_test, y_train, y_test = train_test_split(x,y, random_state= 10, test_size = 0.9)"
   ]
  },
  {
   "cell_type": "markdown",
   "id": "96b4456b-8a44-4d34-bb6a-2b0e58329229",
   "metadata": {},
   "source": [
    "Normalisation"
   ]
  },
  {
   "cell_type": "code",
   "execution_count": 11,
   "id": "4ebd5014-fb26-4fae-aaa1-29691e58692f",
   "metadata": {},
   "outputs": [],
   "source": [
    "from sklearn.preprocessing import StandardScaler\n",
    "sc = StandardScaler()"
   ]
  },
  {
   "cell_type": "code",
   "execution_count": 12,
   "id": "02782c42-ed02-4f95-b15b-cddeb760ce48",
   "metadata": {},
   "outputs": [],
   "source": [
    "x_train_std= sc.fit_transform(x_train)\n",
    "x_test_std = sc.transform(x_test)"
   ]
  },
  {
   "cell_type": "code",
   "execution_count": 13,
   "id": "8190862f-0067-4c46-a8c7-5ecb25663f67",
   "metadata": {},
   "outputs": [
    {
     "data": {
      "text/plain": [
       "['D:\\\\D_Documents\\\\Minor_Project\\\\Model\\\\Sc.sav']"
      ]
     },
     "execution_count": 13,
     "metadata": {},
     "output_type": "execute_result"
    }
   ],
   "source": [
    "joblib.dump(sc,r'D:\\D_Documents\\Minor_Project\\Model\\Sc.sav')"
   ]
  },
  {
   "cell_type": "markdown",
   "id": "fedfb88b-3aeb-457b-abe7-ba8ce5556ad4",
   "metadata": {},
   "source": [
    "Model Training"
   ]
  },
  {
   "cell_type": "code",
   "execution_count": 14,
   "id": "2aeb94af-4b18-48d9-8c63-1657621604a3",
   "metadata": {},
   "outputs": [],
   "source": [
    "from sklearn.linear_model import LinearRegression"
   ]
  },
  {
   "cell_type": "code",
   "execution_count": 15,
   "id": "10703618-2a97-4c2b-99e1-7ad445b309d9",
   "metadata": {},
   "outputs": [
    {
     "data": {
      "text/plain": [
       "LinearRegression()"
      ]
     },
     "execution_count": 15,
     "metadata": {},
     "output_type": "execute_result"
    }
   ],
   "source": [
    "lr = LinearRegression()\n",
    "lr.fit(x_train_std, y_train)"
   ]
  },
  {
   "cell_type": "code",
   "execution_count": 16,
   "id": "6fbdc8eb-e9a7-4e7b-b104-7d067aaebb99",
   "metadata": {},
   "outputs": [],
   "source": [
    "lr_predict = lr.predict(x_test_std)"
   ]
  },
  {
   "cell_type": "code",
   "execution_count": 17,
   "id": "391fb774-bc6e-4043-922d-4b16319b0968",
   "metadata": {},
   "outputs": [
    {
     "name": "stdout",
     "output_type": "stream",
     "text": [
      "0.5038215120501517\n",
      "901.2428037423196\n",
      "1206.300437307339\n"
     ]
    }
   ],
   "source": [
    "print(r2_score(y_test, lr_predict))\n",
    "print(mean_absolute_error(y_test, lr_predict))\n",
    "print(np.sqrt(mean_squared_error(y_test, lr_predict)))"
   ]
  },
  {
   "cell_type": "markdown",
   "id": "a894372a-d26d-4f52-ba15-ff95c996daf2",
   "metadata": {},
   "source": [
    "Save the model"
   ]
  },
  {
   "cell_type": "code",
   "execution_count": 18,
   "id": "1058de68-900f-4b8e-936e-edabb8e6b438",
   "metadata": {},
   "outputs": [
    {
     "data": {
      "text/plain": [
       "['D:\\\\D_Documents\\\\Minor_Project\\\\Model\\\\Lr.sav']"
      ]
     },
     "execution_count": 18,
     "metadata": {},
     "output_type": "execute_result"
    }
   ],
   "source": [
    "joblib.dump(lr, r'D:\\D_Documents\\Minor_Project\\Model\\Lr.sav')"
   ]
  },
  {
   "cell_type": "markdown",
   "id": "6df03b33-3eda-4293-a936-a615957325b3",
   "metadata": {},
   "source": [
    "Load the model"
   ]
  },
  {
   "cell_type": "code",
   "execution_count": 19,
   "id": "86a02ff1-c726-42b2-be66-afdb1d399c8a",
   "metadata": {},
   "outputs": [],
   "source": [
    "mod = joblib.load(r'D:\\D_Documents\\Minor_Project\\Model\\Lr.sav')"
   ]
  },
  {
   "cell_type": "code",
   "execution_count": 20,
   "id": "793da0f4-801b-4198-8923-acb0e4d19f79",
   "metadata": {},
   "outputs": [],
   "source": [
    "pred = mod.predict(x_test_std)"
   ]
  },
  {
   "cell_type": "code",
   "execution_count": 21,
   "id": "2f1496e6-bbf1-448e-aa38-b8dfcad31ec0",
   "metadata": {},
   "outputs": [
    {
     "name": "stdout",
     "output_type": "stream",
     "text": [
      "0.5038215120501517\n",
      "901.2428037423196\n",
      "1206.300437307339\n"
     ]
    }
   ],
   "source": [
    "print(r2_score(y_test, pred))\n",
    "print(mean_absolute_error(y_test, pred))\n",
    "print(np.sqrt(mean_squared_error(y_test, pred)))"
   ]
  },
  {
   "cell_type": "code",
   "execution_count": null,
   "id": "b8d0f520-ef30-4c49-9ec5-56340c3c7706",
   "metadata": {},
   "outputs": [],
   "source": []
  },
  {
   "cell_type": "code",
   "execution_count": null,
   "id": "4bcaa86c-7f3e-4470-9af3-f95459d12f12",
   "metadata": {},
   "outputs": [],
   "source": []
  }
 ],
 "metadata": {
  "kernelspec": {
   "display_name": "Python 3 (ipykernel)",
   "language": "python",
   "name": "python3"
  },
  "language_info": {
   "codemirror_mode": {
    "name": "ipython",
    "version": 3
   },
   "file_extension": ".py",
   "mimetype": "text/x-python",
   "name": "python",
   "nbconvert_exporter": "python",
   "pygments_lexer": "ipython3",
   "version": "3.10.9"
  }
 },
 "nbformat": 4,
 "nbformat_minor": 5
}
